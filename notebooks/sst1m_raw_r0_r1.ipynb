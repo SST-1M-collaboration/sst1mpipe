{
 "cells": [
  {
   "cell_type": "code",
   "execution_count": 1,
   "metadata": {},
   "outputs": [],
   "source": [
    "# an initial example, more code will follow later\n",
    "from sst1mpipe.io.sst1m_event_source import (\n",
    "    SST1MEventSource\n",
    ")\n"
   ]
  },
  {
   "cell_type": "markdown",
   "metadata": {},
   "source": []
  },
  {
   "cell_type": "code",
   "execution_count": 2,
   "metadata": {},
   "outputs": [],
   "source": [
    "input_files = [\n",
    "    \"/media/vboxshare/SST1M2_20221114_0100.fits.fz\", \n",
    "    \"/media/vboxshare/SST1M2_00000000_0000_copy.fits.fz\"\n",
    "]"
   ]
  },
  {
   "cell_type": "code",
   "execution_count": 4,
   "metadata": {},
   "outputs": [
    {
     "name": "stdout",
     "output_type": "stream",
     "text": [
      "input_path : ['/media/vboxshare/SST1M2_20221114_0100.fits.fz', '/media/vboxshare/SST1M2_00000000_0000_copy.fits.fz']\n",
      "i:  0\n",
      "i:  1\n",
      "i:  2\n",
      "i:  3\n",
      "i:  4\n"
     ]
    }
   ],
   "source": [
    "max_events = 5\n",
    "with SST1MEventSource(input_files, max_events = max_events) as source:\n",
    "    for i, event in enumerate(source):\n",
    "        print(\"i: \", i)\n",
    "        # print(event)\n",
    " "
   ]
  }
 ],
 "metadata": {
  "kernelspec": {
   "display_name": "sst1m-dev",
   "language": "python",
   "name": "python3"
  },
  "language_info": {
   "codemirror_mode": {
    "name": "ipython",
    "version": 3
   },
   "file_extension": ".py",
   "mimetype": "text/x-python",
   "name": "python",
   "nbconvert_exporter": "python",
   "pygments_lexer": "ipython3",
   "version": "3.8.16"
  },
  "orig_nbformat": 4,
  "vscode": {
   "interpreter": {
    "hash": "8f1b7e77879a084d9ce3534cf531c4c83d3a4d74406c1658c3b9f205f3be2e62"
   }
  }
 },
 "nbformat": 4,
 "nbformat_minor": 2
}
